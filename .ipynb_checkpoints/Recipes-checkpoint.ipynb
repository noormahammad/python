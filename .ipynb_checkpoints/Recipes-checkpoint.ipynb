{
 "cells": [
  {
   "cell_type": "code",
   "execution_count": null,
   "metadata": {
    "scrolled": true
   },
   "outputs": [],
   "source": [
    "# Generate a list of fake (name,job) tubles\n",
    "from faker import Faker\n",
    "fake = Faker()\n",
    "\n",
    "number_of_names = 30\n",
    "names = []\n",
    "\n",
    "while(len(names) < number_of_names):    \n",
    "    names.append((fake.job(), fake.name()))    \n",
    "\n",
    "print(names)\n"
   ]
  },
  {
   "cell_type": "code",
   "execution_count": null,
   "metadata": {
    "scrolled": false
   },
   "outputs": [],
   "source": [
    "# create a video with images\n",
    "from moviepy.editor import ImageClip, VideoFileClip, concatenate_videoclips\n",
    "\n",
    "DURATION = 3\n",
    "POSITION = 450,300\n",
    "SIZE = 235, 298\n",
    "\n",
    "imgClip1 = ImageClip(\"./samples-videos/sample-image-1.jpg\").set_duration(DURATION).resize(SIZE)\n",
    "imgClip2 = ImageClip(\"./samples-videos/sample-image-2.jpg\").set_duration(DURATION).resize(SIZE)\n",
    "imgClip3 = ImageClip(\"./samples-videos/sample-image-3.jpg\").set_duration(DURATION).resize(SIZE)\n",
    "\n",
    "concatenate_videoclips([imgClip1, imgClip2, imgClip3]).ipython_display(size=500,fps=25)\n",
    "\n"
   ]
  },
  {
   "cell_type": "code",
   "execution_count": null,
   "metadata": {},
   "outputs": [],
   "source": [
    "#Text with moving letters - An example tutorial\n",
    "\n",
    "import numpy as np\n",
    "from moviepy.editor import *\n",
    "from moviepy.video.tools.segmenting import findObjects\n",
    "\n",
    "# WE CREATE THE TEXT THAT IS GOING TO MOVE, WE CENTER IT.\n",
    "\n",
    "screensize = (720,460)\n",
    "txtClip = TextClip('Tazmeen',color='white', font=\"Amiri-Bold\",\n",
    "                   kerning = 5, fontsize=100)\n",
    "cvc = CompositeVideoClip( [txtClip.set_pos('center')],\n",
    "                        size=screensize)\n",
    "\n",
    "# THE NEXT FOUR FUNCTIONS DEFINE FOUR WAYS OF MOVING THE LETTERS\n",
    "\n",
    "\n",
    "# helper function\n",
    "rotMatrix = lambda a: np.array( [[np.cos(a),np.sin(a)], \n",
    "                                 [-np.sin(a),np.cos(a)]] )\n",
    "\n",
    "def vortex(screenpos,i,nletters):\n",
    "    d = lambda t : 1.0/(0.3+t**8) #damping\n",
    "    a = i*np.pi/ nletters # angle of the movement\n",
    "    v = rotMatrix(a).dot([-1,0])\n",
    "    if i%2 : v[1] = -v[1]\n",
    "    return lambda t: screenpos+400*d(t)*rotMatrix(0.5*d(t)*a).dot(v)\n",
    "    \n",
    "def cascade(screenpos,i,nletters):\n",
    "    v = np.array([0,-1])\n",
    "    d = lambda t : 1 if t<0 else abs(np.sinc(t)/(1+t**4))\n",
    "    return lambda t: screenpos+v*400*d(t-0.15*i)\n",
    "\n",
    "def arrive(screenpos,i,nletters):\n",
    "    v = np.array([-1,0])\n",
    "    d = lambda t : max(0, 3-3*t)\n",
    "    return lambda t: screenpos-400*v*d(t-0.2*i)\n",
    "    \n",
    "def vortexout(screenpos,i,nletters):\n",
    "    d = lambda t : max(0,t) #damping\n",
    "    a = i*np.pi/ nletters # angle of the movement\n",
    "    v = rotMatrix(a).dot([-1,0])\n",
    "    if i%2 : v[1] = -v[1]\n",
    "    return lambda t: screenpos+400*d(t-0.1*i)*rotMatrix(-0.2*d(t)*a).dot(v)\n",
    "\n",
    "\n",
    "\n",
    "# WE USE THE PLUGIN findObjects TO LOCATE AND SEPARATE EACH LETTER\n",
    "\n",
    "letters = findObjects(cvc) # a list of ImageClips\n",
    "\n",
    "\n",
    "# WE ANIMATE THE LETTERS\n",
    "\n",
    "def moveLetters(letters, funcpos):\n",
    "    return [ letter.set_pos(funcpos(letter.screenpos,i,len(letters)))\n",
    "              for i,letter in enumerate(letters)]\n",
    "\n",
    "clips = [ CompositeVideoClip( moveLetters(letters,funcpos),\n",
    "                              size = screensize).subclip(0,5)\n",
    "          for funcpos in [vortex, cascade, arrive, vortexout] ]\n",
    "\n",
    "# WE CONCATENATE EVERYTHING AND WRITE TO A FILE\n",
    "\n",
    "final_clip = concatenate_videoclips(clips)\n",
    "#final_clip.write_videofile('../../coolTextEffects.avi',fps=25,codec='mpeg4')\n",
    "final_clip.ipython_display(codec='mpeg4', fps=25)"
   ]
  },
  {
   "cell_type": "code",
   "execution_count": null,
   "metadata": {},
   "outputs": [],
   "source": [
    "# cross-fading effect\n",
    "#(progressive appearance or disappearance of a clip over another)\n",
    "\n",
    "from moviepy.editor import VideoFileClip\n",
    "from moviepy.video.compositing.CompositeVideoClip import CompositeVideoClip\n",
    "\n",
    "clip1 = VideoFileClip(\"./samples-videos/sample-2.mp4\").subclip(1,5)\n",
    "clip2 = VideoFileClip(\"./samples-videos/obama.mp4\").subclip(1,5)\n",
    "imgClip1 = ImageClip(\"./samples-videos/sample-image-1.jpg\").set_duration(2)\n",
    "imgClip2 = ImageClip(\"./samples-videos/sample-image-2.jpg\").set_duration(1)\n",
    "imgClip3 = ImageClip(\"./samples-videos/sample-image-3.jpg\").set_duration(1)\n",
    "\n",
    "CompositeVideoClip(\\\n",
    "                   [clip1.crossfadeout(0.5),\\\n",
    "                    imgClip1.set_position(300,50).set_start(1),\n",
    "                    imgClip2.set_position(300,300).set_start(3),\n",
    "                    imgClip3.set_position(300,600).set"
   ]
  },
  {
   "cell_type": "code",
   "execution_count": null,
   "metadata": {},
   "outputs": [],
   "source": [
    "# cross-fading effect\n",
    "#(progressive appearance or disappearance of a clip over another)\n",
    "\n",
    "from moviepy.editor import VideoFileClip, ImageClip\n",
    "from moviepy.video.compositing.CompositeVideoClip import CompositeVideoClip\n",
    "\n",
    "SIZE = 200, 200\n",
    "POSITION = 250, 50\n",
    "\n",
    "clip1 = VideoFileClip(\"./samples-videos/sample-2.mp4\").subclip(1,5)\n",
    "clip2 = VideoFileClip(\"./samples-videos/obama.mp4\").subclip(1,5)\n",
    "imgClip1 = ImageClip(\"./samples-videos/sample-image-1.jpg\").resize(SIZE).set_duration(2).set_pos(POSITION)\n",
    "imgClip2 = ImageClip(\"./samples-videos/sample-image-2.jpg\").resize(SIZE).set_duration(2).set_pos((200,300))\n",
    "imgClip3 = ImageClip(\"./samples-videos/sample-image-3.jpg\").resize(SIZE).set_duration(2).set_pos((200,400))\n",
    "\n",
    "CompositeVideoClip(\\\n",
    "                   [clip1.crossfadeout(0.5),\\\n",
    "                    imgClip1.set_start(1),\n",
    "                    imgClip2.set_start(3),\n",
    "                    imgClip3.set_start(5),\n",
    "                    clip2.set_start(4).crossfadein(0.5)\\\n",
    "                    .set_position(\"center\")])\\\n",
    ".ipython_display(width=580)"
   ]
  },
  {
   "cell_type": "code",
   "execution_count": null,
   "metadata": {},
   "outputs": [],
   "source": [
    "p = 250, 400\n",
    "print(p)\n",
    "print(p+100)"
   ]
  },
  {
   "cell_type": "code",
   "execution_count": null,
   "metadata": {},
   "outputs": [],
   "source": [
    "(100, 100) + "
   ]
  },
  {
   "cell_type": "code",
   "execution_count": null,
   "metadata": {},
   "outputs": [],
   "source": []
  },
  {
   "cell_type": "code",
   "execution_count": null,
   "metadata": {},
   "outputs": [],
   "source": [
    "a = (100, 100)\n",
    "b= (a[0]+100, a[1]+100)\n",
    "print(b)"
   ]
  },
  {
   "cell_type": "code",
   "execution_count": null,
   "metadata": {},
   "outputs": [],
   "source": []
  }
 ],
 "metadata": {
  "kernelspec": {
   "display_name": "Python 3",
   "language": "python",
   "name": "python3"
  },
  "language_info": {
   "codemirror_mode": {
    "name": "ipython",
    "version": 3
   },
   "file_extension": ".py",
   "mimetype": "text/x-python",
   "name": "python",
   "nbconvert_exporter": "python",
   "pygments_lexer": "ipython3",
   "version": "3.7.1"
  }
 },
 "nbformat": 4,
 "nbformat_minor": 2
}
